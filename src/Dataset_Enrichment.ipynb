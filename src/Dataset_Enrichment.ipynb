{
 "cells": [
  {
   "cell_type": "markdown",
   "metadata": {},
   "source": [
    "## Imports area"
   ]
  },
  {
   "cell_type": "code",
   "execution_count": 1,
   "metadata": {},
   "outputs": [],
   "source": [
    "import datetime\n",
    "import numpy as np\n",
    "import pandas as pd\n",
    "import seaborn as sns\n",
    "import matplotlib.pyplot as plt"
   ]
  },
  {
   "cell_type": "markdown",
   "metadata": {},
   "source": [
    "## Flags Definition"
   ]
  },
  {
   "cell_type": "code",
   "execution_count": 2,
   "metadata": {},
   "outputs": [],
   "source": [
    "DATA_PATH = '../data/'\n",
    "FINAL_DATAFRAME_LOC = '../data/consolidated_df.csv'"
   ]
  },
  {
   "cell_type": "markdown",
   "metadata": {},
   "source": [
    "## Loading dataframes"
   ]
  },
  {
   "cell_type": "code",
   "execution_count": 3,
   "metadata": {},
   "outputs": [],
   "source": [
    "streaming_movies = pd.read_csv(DATA_PATH + 'streaming_movies/MoviesOnStreamingPlatforms_updated.csv', sep=',')\n",
    "the_oscar_awards = pd.read_csv(DATA_PATH + 'the_oscar_awards/the_oscar_award.csv', sep=',')"
   ]
  },
  {
   "cell_type": "markdown",
   "metadata": {},
   "source": [
    "## Initial exploration / Data Processing"
   ]
  },
  {
   "cell_type": "code",
   "execution_count": 4,
   "metadata": {},
   "outputs": [
    {
     "data": {
      "text/plain": [
       "['Unnamed: 0',\n",
       " 'ID',\n",
       " 'Title',\n",
       " 'Year',\n",
       " 'Age',\n",
       " 'IMDb',\n",
       " 'Rotten Tomatoes',\n",
       " 'Netflix',\n",
       " 'Hulu',\n",
       " 'Prime Video',\n",
       " 'Disney+',\n",
       " 'Type',\n",
       " 'Directors',\n",
       " 'Genres',\n",
       " 'Country',\n",
       " 'Language',\n",
       " 'Runtime']"
      ]
     },
     "execution_count": 4,
     "metadata": {},
     "output_type": "execute_result"
    }
   ],
   "source": [
    "list(streaming_movies.columns)"
   ]
  },
  {
   "cell_type": "code",
   "execution_count": 5,
   "metadata": {},
   "outputs": [
    {
     "data": {
      "text/plain": [
       "['year_film',\n",
       " 'year_ceremony',\n",
       " 'ceremony',\n",
       " 'category',\n",
       " 'name',\n",
       " 'film',\n",
       " 'winner']"
      ]
     },
     "execution_count": 5,
     "metadata": {},
     "output_type": "execute_result"
    }
   ],
   "source": [
    "list(the_oscar_awards.columns)"
   ]
  },
  {
   "cell_type": "markdown",
   "metadata": {},
   "source": [
    "#### Target Columns"
   ]
  },
  {
   "cell_type": "code",
   "execution_count": 6,
   "metadata": {},
   "outputs": [
    {
     "data": {
      "text/plain": [
       "'\\n\\nTITLE, \\nYEAR, \\nHULU, \\nNETFLIX, \\nDISNEY_PLUS, \\nPRIME_VIDEO, \\nCOUNTRY, \\nGENRES, \\nDURATION,\\nDIRECTORS,\\nOSCAR_INDICATED,\\n#OSCAR_INDICATIONS,\\nWON_OSCAR_CATEGORY, \\nIMDB,\\nAGE_CLASSIFICATION,\\nLANGUAGE,\\nMOVIE_AGE\\n\\n'"
      ]
     },
     "execution_count": 6,
     "metadata": {},
     "output_type": "execute_result"
    }
   ],
   "source": [
    "\"\"\"\n",
    "\n",
    "TITLE, \n",
    "YEAR, \n",
    "HULU, \n",
    "NETFLIX, \n",
    "DISNEY_PLUS, \n",
    "PRIME_VIDEO, \n",
    "COUNTRY, \n",
    "GENRES, \n",
    "DURATION,\n",
    "DIRECTORS,\n",
    "OSCAR_INDICATED,\n",
    "#OSCAR_INDICATIONS,\n",
    "WON_OSCAR_CATEGORY, \n",
    "IMDB,\n",
    "AGE_CLASSIFICATION,\n",
    "LANGUAGE,\n",
    "MOVIE_AGE\n",
    "\n",
    "\"\"\""
   ]
  },
  {
   "cell_type": "markdown",
   "metadata": {},
   "source": [
    "#### Missing values analysis"
   ]
  },
  {
   "cell_type": "code",
   "execution_count": 7,
   "metadata": {},
   "outputs": [
    {
     "data": {
      "text/plain": [
       "Unnamed: 0             0\n",
       "ID                     0\n",
       "Title                  0\n",
       "Year                   0\n",
       "Age                 9390\n",
       "IMDb                 571\n",
       "Rotten Tomatoes    11586\n",
       "Netflix                0\n",
       "Hulu                   0\n",
       "Prime Video            0\n",
       "Disney+                0\n",
       "Type                   0\n",
       "Directors            726\n",
       "Genres               275\n",
       "Country              435\n",
       "Language             599\n",
       "Runtime              592\n",
       "dtype: int64"
      ]
     },
     "execution_count": 7,
     "metadata": {},
     "output_type": "execute_result"
    }
   ],
   "source": [
    "# Streaming PLatform Movies\n",
    "\n",
    "streaming_movies.isna().sum()"
   ]
  },
  {
   "cell_type": "code",
   "execution_count": 8,
   "metadata": {},
   "outputs": [
    {
     "data": {
      "text/plain": [
       "year_film          0\n",
       "year_ceremony      0\n",
       "ceremony           0\n",
       "category           0\n",
       "name               0\n",
       "film             304\n",
       "winner             0\n",
       "dtype: int64"
      ]
     },
     "execution_count": 8,
     "metadata": {},
     "output_type": "execute_result"
    }
   ],
   "source": [
    "# Oscar Awards\n",
    "\n",
    "the_oscar_awards.isna().sum()"
   ]
  },
  {
   "cell_type": "markdown",
   "metadata": {},
   "source": [
    "#### Dropping unnecessary columns"
   ]
  },
  {
   "cell_type": "code",
   "execution_count": 9,
   "metadata": {},
   "outputs": [],
   "source": [
    "# From Streaming_Movies Dataframe\n",
    "\n",
    "streaming_movies.drop(['Unnamed: 0'], axis=1, inplace=True)\n",
    "streaming_movies.drop(['Rotten Tomatoes'], axis=1, inplace=True)"
   ]
  },
  {
   "cell_type": "markdown",
   "metadata": {},
   "source": [
    "#### Dropping NA values from Oscar Awards Dataframe"
   ]
  },
  {
   "cell_type": "code",
   "execution_count": 10,
   "metadata": {},
   "outputs": [],
   "source": [
    "the_oscar_awards.dropna(inplace=True)"
   ]
  },
  {
   "cell_type": "markdown",
   "metadata": {},
   "source": [
    "## Dataset enrichment"
   ]
  },
  {
   "cell_type": "markdown",
   "metadata": {},
   "source": [
    "#### Getting the two datasets intersection"
   ]
  },
  {
   "cell_type": "code",
   "execution_count": 11,
   "metadata": {},
   "outputs": [],
   "source": [
    "oscar_movie_titles = set(the_oscar_awards['film'])"
   ]
  },
  {
   "cell_type": "code",
   "execution_count": 12,
   "metadata": {},
   "outputs": [],
   "source": [
    "streaming_movie_titles = set(streaming_movies['Title'])"
   ]
  },
  {
   "cell_type": "code",
   "execution_count": 13,
   "metadata": {},
   "outputs": [],
   "source": [
    "intersection = streaming_movie_titles.intersection(oscar_movie_titles)"
   ]
  },
  {
   "cell_type": "markdown",
   "metadata": {},
   "source": [
    "#### Adding new columns to the original Dataframe"
   ]
  },
  {
   "cell_type": "code",
   "execution_count": 14,
   "metadata": {},
   "outputs": [],
   "source": [
    "enriched_dataframe = streaming_movies"
   ]
  },
  {
   "cell_type": "code",
   "execution_count": 15,
   "metadata": {},
   "outputs": [],
   "source": [
    "enriched_dataframe['MOVIE_AGE'] = streaming_movies.shape[0] * [0]\n",
    "enriched_dataframe['OSCAR_INDICATED'] = streaming_movies.shape[0] * [0]\n",
    "enriched_dataframe['#OSCAR_INDICATIONS'] = streaming_movies.shape[0] * [0]\n",
    "enriched_dataframe['WON_OSCAR_CATEGORY'] = streaming_movies.shape[0] * [False]"
   ]
  },
  {
   "cell_type": "markdown",
   "metadata": {},
   "source": [
    "#### Updating values"
   ]
  },
  {
   "cell_type": "code",
   "execution_count": 16,
   "metadata": {},
   "outputs": [],
   "source": [
    "# Renaming column to match the other dataframe\n",
    "the_oscar_awards.rename(columns={'film': 'Title'}, inplace=True)"
   ]
  },
  {
   "cell_type": "code",
   "execution_count": 17,
   "metadata": {},
   "outputs": [],
   "source": [
    "# Updating Oscar Indications and Oscar's Category Winner columns\n",
    "current_year = datetime.datetime.now().year\n",
    "\n",
    "for i in range(enriched_dataframe.shape[0]):\n",
    "    title = enriched_dataframe.at[i, 'Title']\n",
    "    \n",
    "    enriched_dataframe.at[i, 'MOVIE_AGE'] = current_year - enriched_dataframe.at[i, 'Year']\n",
    "    \n",
    "    if title in intersection:\n",
    "        oscar_indications = list(the_oscar_awards[the_oscar_awards['Title'] == title]['winner'])\n",
    "        \n",
    "        enriched_dataframe.at[i, 'OSCAR_INDICATED'] = 1\n",
    "        enriched_dataframe.at[i, '#OSCAR_INDICATIONS'] = len(oscar_indications)\n",
    "        \n",
    "        if any(oscar_indications):\n",
    "            enriched_dataframe.at[i, 'WON_OSCAR_CATEGORY'] = True"
   ]
  },
  {
   "cell_type": "code",
   "execution_count": 18,
   "metadata": {},
   "outputs": [
    {
     "data": {
      "text/plain": [
       "Index(['ID', 'Title', 'Year', 'Age', 'IMDb', 'Netflix', 'Hulu', 'Prime Video',\n",
       "       'Disney+', 'Type', 'Directors', 'Genres', 'Country', 'Language',\n",
       "       'Runtime', 'MOVIE_AGE', 'OSCAR_INDICATED', '#OSCAR_INDICATIONS',\n",
       "       'WON_OSCAR_CATEGORY'],\n",
       "      dtype='object')"
      ]
     },
     "execution_count": 18,
     "metadata": {},
     "output_type": "execute_result"
    }
   ],
   "source": [
    "enriched_dataframe.columns"
   ]
  },
  {
   "cell_type": "code",
   "execution_count": 19,
   "metadata": {},
   "outputs": [],
   "source": [
    "# Renaming Columns\n",
    "enriched_dataframe.rename(columns={\n",
    "    'Title': 'TITLE',\n",
    "    'Year': 'YEAR',\n",
    "    'Hulu': 'HULU',\n",
    "    'Netflix': 'NETFLIX',\n",
    "    'Disney+': 'DISNEY_PLUS',\n",
    "    'Prime Video': 'PRIME_VIDEO',\n",
    "    'Country': 'COUNTRY',\n",
    "    'Genres': 'GENRES',\n",
    "    'Runtime': 'DURATION',\n",
    "    'winner': 'WON_OSCAR_CATEGORY',\n",
    "    'IMDb': 'IMDB',\n",
    "    'Age': 'AGE_CLASSIFICATION',\n",
    "    'Language': 'LANGUAGE',\n",
    "    'Directors': 'DIRECTORS'\n",
    "}, inplace=True)"
   ]
  },
  {
   "cell_type": "code",
   "execution_count": 20,
   "metadata": {},
   "outputs": [],
   "source": [
    "# Building and saving final dataframe\n",
    "enriched_dataframe = enriched_dataframe[['TITLE', 'YEAR', 'HULU', 'NETFLIX', 'DISNEY_PLUS', 'PRIME_VIDEO', 'COUNTRY', 'GENRES', 'DIRECTORS','DURATION', 'OSCAR_INDICATED', '#OSCAR_INDICATIONS', 'WON_OSCAR_CATEGORY', 'IMDB', 'AGE_CLASSIFICATION', 'LANGUAGE', 'MOVIE_AGE']]\n",
    "enriched_dataframe.to_csv(FINAL_DATAFRAME_LOC, sep='|')"
   ]
  }
 ],
 "metadata": {
  "kernelspec": {
   "display_name": "Python 3",
   "language": "python",
   "name": "python3"
  },
  "language_info": {
   "codemirror_mode": {
    "name": "ipython",
    "version": 3
   },
   "file_extension": ".py",
   "mimetype": "text/x-python",
   "name": "python",
   "nbconvert_exporter": "python",
   "pygments_lexer": "ipython3",
   "version": "3.8.5"
  }
 },
 "nbformat": 4,
 "nbformat_minor": 4
}
