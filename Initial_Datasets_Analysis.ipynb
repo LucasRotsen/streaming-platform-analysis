{
 "cells": [
  {
   "cell_type": "code",
   "execution_count": 1,
   "metadata": {},
   "outputs": [],
   "source": [
    "import numpy as np\n",
    "import pandas as pd\n",
    "import matplotlib.pyplot as plt"
   ]
  },
  {
   "cell_type": "code",
   "execution_count": 2,
   "metadata": {},
   "outputs": [],
   "source": [
    "DATA_PATH = '/home/lucasrotsen/Git_Repos/streaming-platform-analysis/data/'"
   ]
  },
  {
   "cell_type": "code",
   "execution_count": 3,
   "metadata": {},
   "outputs": [
    {
     "name": "stderr",
     "output_type": "stream",
     "text": [
      "/home/lucasrotsen/Git_Repos/streaming-platform-analysis/.env/lib/python3.8/site-packages/IPython/core/interactiveshell.py:3145: DtypeWarning: Columns (3) have mixed types.Specify dtype option on import or set low_memory=False.\n",
      "  has_raised = await self.run_ast_nodes(code_ast.body, cell_name,\n"
     ]
    }
   ],
   "source": [
    "imdb = pd.read_csv(DATA_PATH + 'imdb/IMDB_movies.csv', sep=',')\n",
    "streaming_movies = pd.read_csv(DATA_PATH + 'streaming_movies/MoviesOnStreamingPlatforms_updated.csv', sep=',')\n",
    "the_oscar_awards = pd.read_csv(DATA_PATH + 'the_oscar_awards/the_oscar_award.csv', sep=',')"
   ]
  },
  {
   "cell_type": "code",
   "execution_count": 4,
   "metadata": {},
   "outputs": [
    {
     "data": {
      "text/plain": [
       "['imdb_title_id',\n",
       " 'title',\n",
       " 'original_title',\n",
       " 'year',\n",
       " 'date_published',\n",
       " 'genre',\n",
       " 'duration',\n",
       " 'country',\n",
       " 'language',\n",
       " 'director',\n",
       " 'writer',\n",
       " 'production_company',\n",
       " 'actors',\n",
       " 'description',\n",
       " 'avg_vote',\n",
       " 'votes',\n",
       " 'budget',\n",
       " 'usa_gross_income',\n",
       " 'worlwide_gross_income',\n",
       " 'metascore',\n",
       " 'reviews_from_users',\n",
       " 'reviews_from_critics']"
      ]
     },
     "execution_count": 4,
     "metadata": {},
     "output_type": "execute_result"
    }
   ],
   "source": [
    "list(imdb.columns)"
   ]
  },
  {
   "cell_type": "code",
   "execution_count": 5,
   "metadata": {},
   "outputs": [
    {
     "data": {
      "text/plain": [
       "['Unnamed: 0',\n",
       " 'ID',\n",
       " 'Title',\n",
       " 'Year',\n",
       " 'Age',\n",
       " 'IMDb',\n",
       " 'Rotten Tomatoes',\n",
       " 'Netflix',\n",
       " 'Hulu',\n",
       " 'Prime Video',\n",
       " 'Disney+',\n",
       " 'Type',\n",
       " 'Directors',\n",
       " 'Genres',\n",
       " 'Country',\n",
       " 'Language',\n",
       " 'Runtime']"
      ]
     },
     "execution_count": 5,
     "metadata": {},
     "output_type": "execute_result"
    }
   ],
   "source": [
    "list(streaming_movies)"
   ]
  },
  {
   "cell_type": "code",
   "execution_count": 6,
   "metadata": {},
   "outputs": [
    {
     "data": {
      "text/plain": [
       "['year_film',\n",
       " 'year_ceremony',\n",
       " 'ceremony',\n",
       " 'category',\n",
       " 'name',\n",
       " 'film',\n",
       " 'winner']"
      ]
     },
     "execution_count": 6,
     "metadata": {},
     "output_type": "execute_result"
    }
   ],
   "source": [
    "list(the_oscar_awards)"
   ]
  },
  {
   "cell_type": "code",
   "execution_count": 7,
   "metadata": {},
   "outputs": [
    {
     "data": {
      "text/plain": [
       "'\\n\\nTITLE, \\nYEAR, \\nDIRECTOR, \\nCATEGORY, \\nHULU, \\nNETFLIX, \\nDISNEY_PLUS, \\nPRIME_VIDEO, \\nCOUNTRY, \\nGENRE, \\nDURATION, \\nOSCAR_INDICATED, \\nWON_OSCAR, \\nIMDB,\\nAGE,\\nBUDGET\\n\\n'"
      ]
     },
     "execution_count": 7,
     "metadata": {},
     "output_type": "execute_result"
    }
   ],
   "source": [
    "\"\"\"\n",
    "\n",
    "TITLE, \n",
    "YEAR, \n",
    "HULU, \n",
    "NETFLIX, \n",
    "DISNEY_PLUS, \n",
    "PRIME_VIDEO, \n",
    "COUNTRY, \n",
    "GENRE, \n",
    "DURATION, \n",
    "OSCAR_INDICATED, \n",
    "WON_OSCAR, \n",
    "IMDB,\n",
    "AGE_CLASSIFICATION,\n",
    "LANGUAGE,\n",
    "MOVIE_AGE\n",
    "\n",
    "\"\"\""
   ]
  },
  {
   "cell_type": "code",
   "execution_count": 8,
   "metadata": {},
   "outputs": [
    {
     "data": {
      "text/plain": [
       "16744"
      ]
     },
     "execution_count": 8,
     "metadata": {},
     "output_type": "execute_result"
    }
   ],
   "source": [
    "streaming_movies.shape[0]"
   ]
  },
  {
   "cell_type": "code",
   "execution_count": 30,
   "metadata": {},
   "outputs": [
    {
     "data": {
      "text/plain": [
       "year_film        0\n",
       "year_ceremony    0\n",
       "ceremony         0\n",
       "category         0\n",
       "name             0\n",
       "film             0\n",
       "winner           0\n",
       "dtype: int64"
      ]
     },
     "execution_count": 30,
     "metadata": {},
     "output_type": "execute_result"
    }
   ],
   "source": [
    "the_oscar_awards.isna().sum()"
   ]
  },
  {
   "cell_type": "code",
   "execution_count": 29,
   "metadata": {},
   "outputs": [],
   "source": [
    "the_oscar_awards.dropna(inplace=True)"
   ]
  },
  {
   "cell_type": "code",
   "execution_count": 10,
   "metadata": {},
   "outputs": [
    {
     "data": {
      "text/html": [
       "<div>\n",
       "<style scoped>\n",
       "    .dataframe tbody tr th:only-of-type {\n",
       "        vertical-align: middle;\n",
       "    }\n",
       "\n",
       "    .dataframe tbody tr th {\n",
       "        vertical-align: top;\n",
       "    }\n",
       "\n",
       "    .dataframe thead th {\n",
       "        text-align: right;\n",
       "    }\n",
       "</style>\n",
       "<table border=\"1\" class=\"dataframe\">\n",
       "  <thead>\n",
       "    <tr style=\"text-align: right;\">\n",
       "      <th></th>\n",
       "      <th>Unnamed: 0</th>\n",
       "      <th>ID</th>\n",
       "      <th>Title</th>\n",
       "      <th>Year</th>\n",
       "      <th>Age</th>\n",
       "      <th>IMDb</th>\n",
       "      <th>Rotten Tomatoes</th>\n",
       "      <th>Netflix</th>\n",
       "      <th>Hulu</th>\n",
       "      <th>Prime Video</th>\n",
       "      <th>Disney+</th>\n",
       "      <th>Type</th>\n",
       "      <th>Directors</th>\n",
       "      <th>Genres</th>\n",
       "      <th>Country</th>\n",
       "      <th>Language</th>\n",
       "      <th>Runtime</th>\n",
       "    </tr>\n",
       "  </thead>\n",
       "  <tbody>\n",
       "    <tr>\n",
       "      <th>32</th>\n",
       "      <td>32</td>\n",
       "      <td>33</td>\n",
       "      <td>Train to Busan</td>\n",
       "      <td>2016</td>\n",
       "      <td>NaN</td>\n",
       "      <td>7.5</td>\n",
       "      <td>94%</td>\n",
       "      <td>1</td>\n",
       "      <td>0</td>\n",
       "      <td>1</td>\n",
       "      <td>0</td>\n",
       "      <td>0</td>\n",
       "      <td>Sang-ho Yeon</td>\n",
       "      <td>Action,Horror,Thriller</td>\n",
       "      <td>South Korea</td>\n",
       "      <td>Korean,Hawaiian</td>\n",
       "      <td>118.0</td>\n",
       "    </tr>\n",
       "    <tr>\n",
       "      <th>57</th>\n",
       "      <td>57</td>\n",
       "      <td>58</td>\n",
       "      <td>A Silent Voice</td>\n",
       "      <td>2016</td>\n",
       "      <td>NaN</td>\n",
       "      <td>8.2</td>\n",
       "      <td>94%</td>\n",
       "      <td>1</td>\n",
       "      <td>0</td>\n",
       "      <td>0</td>\n",
       "      <td>0</td>\n",
       "      <td>0</td>\n",
       "      <td>Naoko Yamada</td>\n",
       "      <td>Animation,Drama,Family,Romance</td>\n",
       "      <td>Japan</td>\n",
       "      <td>Japanese,Japanese Sign Language</td>\n",
       "      <td>130.0</td>\n",
       "    </tr>\n",
       "    <tr>\n",
       "      <th>89</th>\n",
       "      <td>89</td>\n",
       "      <td>90</td>\n",
       "      <td>The Dawn Wall</td>\n",
       "      <td>2018</td>\n",
       "      <td>NaN</td>\n",
       "      <td>8.1</td>\n",
       "      <td>100%</td>\n",
       "      <td>1</td>\n",
       "      <td>0</td>\n",
       "      <td>0</td>\n",
       "      <td>0</td>\n",
       "      <td>0</td>\n",
       "      <td>Josh Lowell,Peter Mortimer</td>\n",
       "      <td>Documentary,Biography,Sport</td>\n",
       "      <td>Austria,United States</td>\n",
       "      <td>English</td>\n",
       "      <td>100.0</td>\n",
       "    </tr>\n",
       "    <tr>\n",
       "      <th>110</th>\n",
       "      <td>110</td>\n",
       "      <td>111</td>\n",
       "      <td>Black Mirror: Bandersnatch</td>\n",
       "      <td>2018</td>\n",
       "      <td>NaN</td>\n",
       "      <td>7.2</td>\n",
       "      <td>92%</td>\n",
       "      <td>1</td>\n",
       "      <td>0</td>\n",
       "      <td>0</td>\n",
       "      <td>0</td>\n",
       "      <td>0</td>\n",
       "      <td>David Slade</td>\n",
       "      <td>Drama,Mystery,Sci-Fi,Thriller</td>\n",
       "      <td>United States,United Kingdom</td>\n",
       "      <td>English</td>\n",
       "      <td>90.0</td>\n",
       "    </tr>\n",
       "    <tr>\n",
       "      <th>123</th>\n",
       "      <td>123</td>\n",
       "      <td>124</td>\n",
       "      <td>Neon Genesis Evangelion: The End of Evangelion</td>\n",
       "      <td>1997</td>\n",
       "      <td>NaN</td>\n",
       "      <td>8.1</td>\n",
       "      <td>88%</td>\n",
       "      <td>1</td>\n",
       "      <td>0</td>\n",
       "      <td>0</td>\n",
       "      <td>0</td>\n",
       "      <td>0</td>\n",
       "      <td>Hideaki Anno,Kazuya Tsurumaki</td>\n",
       "      <td>Animation,Action,Drama,Fantasy,Sci-Fi</td>\n",
       "      <td>Japan</td>\n",
       "      <td>Japanese</td>\n",
       "      <td>87.0</td>\n",
       "    </tr>\n",
       "    <tr>\n",
       "      <th>...</th>\n",
       "      <td>...</td>\n",
       "      <td>...</td>\n",
       "      <td>...</td>\n",
       "      <td>...</td>\n",
       "      <td>...</td>\n",
       "      <td>...</td>\n",
       "      <td>...</td>\n",
       "      <td>...</td>\n",
       "      <td>...</td>\n",
       "      <td>...</td>\n",
       "      <td>...</td>\n",
       "      <td>...</td>\n",
       "      <td>...</td>\n",
       "      <td>...</td>\n",
       "      <td>...</td>\n",
       "      <td>...</td>\n",
       "      <td>...</td>\n",
       "    </tr>\n",
       "    <tr>\n",
       "      <th>16736</th>\n",
       "      <td>16736</td>\n",
       "      <td>16737</td>\n",
       "      <td>Winged Seduction: Birds of Paradise</td>\n",
       "      <td>2012</td>\n",
       "      <td>NaN</td>\n",
       "      <td>6.5</td>\n",
       "      <td>NaN</td>\n",
       "      <td>0</td>\n",
       "      <td>0</td>\n",
       "      <td>0</td>\n",
       "      <td>1</td>\n",
       "      <td>0</td>\n",
       "      <td>Molly Hermann</td>\n",
       "      <td>Documentary</td>\n",
       "      <td>United States</td>\n",
       "      <td>English</td>\n",
       "      <td>NaN</td>\n",
       "    </tr>\n",
       "    <tr>\n",
       "      <th>16739</th>\n",
       "      <td>16739</td>\n",
       "      <td>16740</td>\n",
       "      <td>The Ghosts of Buxley Hall</td>\n",
       "      <td>1980</td>\n",
       "      <td>NaN</td>\n",
       "      <td>6.2</td>\n",
       "      <td>NaN</td>\n",
       "      <td>0</td>\n",
       "      <td>0</td>\n",
       "      <td>0</td>\n",
       "      <td>1</td>\n",
       "      <td>0</td>\n",
       "      <td>Bruce Bilson</td>\n",
       "      <td>Comedy,Family,Fantasy,Horror</td>\n",
       "      <td>United States</td>\n",
       "      <td>English</td>\n",
       "      <td>120.0</td>\n",
       "    </tr>\n",
       "    <tr>\n",
       "      <th>16741</th>\n",
       "      <td>16741</td>\n",
       "      <td>16742</td>\n",
       "      <td>Sharks of Lost Island</td>\n",
       "      <td>2013</td>\n",
       "      <td>NaN</td>\n",
       "      <td>5.7</td>\n",
       "      <td>NaN</td>\n",
       "      <td>0</td>\n",
       "      <td>0</td>\n",
       "      <td>0</td>\n",
       "      <td>1</td>\n",
       "      <td>0</td>\n",
       "      <td>Neil Gelinas</td>\n",
       "      <td>Documentary</td>\n",
       "      <td>United States</td>\n",
       "      <td>English</td>\n",
       "      <td>NaN</td>\n",
       "    </tr>\n",
       "    <tr>\n",
       "      <th>16742</th>\n",
       "      <td>16742</td>\n",
       "      <td>16743</td>\n",
       "      <td>Man Among Cheetahs</td>\n",
       "      <td>2017</td>\n",
       "      <td>NaN</td>\n",
       "      <td>6.6</td>\n",
       "      <td>NaN</td>\n",
       "      <td>0</td>\n",
       "      <td>0</td>\n",
       "      <td>0</td>\n",
       "      <td>1</td>\n",
       "      <td>0</td>\n",
       "      <td>Richard Slater-Jones</td>\n",
       "      <td>Documentary</td>\n",
       "      <td>United States</td>\n",
       "      <td>English</td>\n",
       "      <td>NaN</td>\n",
       "    </tr>\n",
       "    <tr>\n",
       "      <th>16743</th>\n",
       "      <td>16743</td>\n",
       "      <td>16744</td>\n",
       "      <td>In Beaver Valley</td>\n",
       "      <td>1950</td>\n",
       "      <td>NaN</td>\n",
       "      <td>NaN</td>\n",
       "      <td>NaN</td>\n",
       "      <td>0</td>\n",
       "      <td>0</td>\n",
       "      <td>0</td>\n",
       "      <td>1</td>\n",
       "      <td>0</td>\n",
       "      <td>James Algar</td>\n",
       "      <td>Documentary,Short,Family</td>\n",
       "      <td>United States</td>\n",
       "      <td>English</td>\n",
       "      <td>32.0</td>\n",
       "    </tr>\n",
       "  </tbody>\n",
       "</table>\n",
       "<p>9390 rows × 17 columns</p>\n",
       "</div>"
      ],
      "text/plain": [
       "       Unnamed: 0     ID                                           Title  \\\n",
       "32             32     33                                  Train to Busan   \n",
       "57             57     58                                  A Silent Voice   \n",
       "89             89     90                                   The Dawn Wall   \n",
       "110           110    111                      Black Mirror: Bandersnatch   \n",
       "123           123    124  Neon Genesis Evangelion: The End of Evangelion   \n",
       "...           ...    ...                                             ...   \n",
       "16736       16736  16737             Winged Seduction: Birds of Paradise   \n",
       "16739       16739  16740                       The Ghosts of Buxley Hall   \n",
       "16741       16741  16742                           Sharks of Lost Island   \n",
       "16742       16742  16743                              Man Among Cheetahs   \n",
       "16743       16743  16744                                In Beaver Valley   \n",
       "\n",
       "       Year  Age  IMDb Rotten Tomatoes  Netflix  Hulu  Prime Video  Disney+  \\\n",
       "32     2016  NaN   7.5             94%        1     0            1        0   \n",
       "57     2016  NaN   8.2             94%        1     0            0        0   \n",
       "89     2018  NaN   8.1            100%        1     0            0        0   \n",
       "110    2018  NaN   7.2             92%        1     0            0        0   \n",
       "123    1997  NaN   8.1             88%        1     0            0        0   \n",
       "...     ...  ...   ...             ...      ...   ...          ...      ...   \n",
       "16736  2012  NaN   6.5             NaN        0     0            0        1   \n",
       "16739  1980  NaN   6.2             NaN        0     0            0        1   \n",
       "16741  2013  NaN   5.7             NaN        0     0            0        1   \n",
       "16742  2017  NaN   6.6             NaN        0     0            0        1   \n",
       "16743  1950  NaN   NaN             NaN        0     0            0        1   \n",
       "\n",
       "       Type                      Directors  \\\n",
       "32        0                   Sang-ho Yeon   \n",
       "57        0                   Naoko Yamada   \n",
       "89        0     Josh Lowell,Peter Mortimer   \n",
       "110       0                    David Slade   \n",
       "123       0  Hideaki Anno,Kazuya Tsurumaki   \n",
       "...     ...                            ...   \n",
       "16736     0                  Molly Hermann   \n",
       "16739     0                   Bruce Bilson   \n",
       "16741     0                   Neil Gelinas   \n",
       "16742     0           Richard Slater-Jones   \n",
       "16743     0                    James Algar   \n",
       "\n",
       "                                      Genres                       Country  \\\n",
       "32                    Action,Horror,Thriller                   South Korea   \n",
       "57            Animation,Drama,Family,Romance                         Japan   \n",
       "89               Documentary,Biography,Sport         Austria,United States   \n",
       "110            Drama,Mystery,Sci-Fi,Thriller  United States,United Kingdom   \n",
       "123    Animation,Action,Drama,Fantasy,Sci-Fi                         Japan   \n",
       "...                                      ...                           ...   \n",
       "16736                            Documentary                 United States   \n",
       "16739           Comedy,Family,Fantasy,Horror                 United States   \n",
       "16741                            Documentary                 United States   \n",
       "16742                            Documentary                 United States   \n",
       "16743               Documentary,Short,Family                 United States   \n",
       "\n",
       "                              Language  Runtime  \n",
       "32                     Korean,Hawaiian    118.0  \n",
       "57     Japanese,Japanese Sign Language    130.0  \n",
       "89                             English    100.0  \n",
       "110                            English     90.0  \n",
       "123                           Japanese     87.0  \n",
       "...                                ...      ...  \n",
       "16736                          English      NaN  \n",
       "16739                          English    120.0  \n",
       "16741                          English      NaN  \n",
       "16742                          English      NaN  \n",
       "16743                          English     32.0  \n",
       "\n",
       "[9390 rows x 17 columns]"
      ]
     },
     "execution_count": 10,
     "metadata": {},
     "output_type": "execute_result"
    }
   ],
   "source": [
    "streaming_movies[streaming_movies['Age'].isna()]"
   ]
  },
  {
   "cell_type": "code",
   "execution_count": 11,
   "metadata": {},
   "outputs": [],
   "source": [
    "streaming_movies.drop(['Unnamed: 0'], axis=1, inplace=True)\n",
    "streaming_movies.drop(['Rotten Tomatoes'], axis=1, inplace=True)"
   ]
  },
  {
   "cell_type": "code",
   "execution_count": 18,
   "metadata": {},
   "outputs": [
    {
     "data": {
      "text/plain": [
       "62145"
      ]
     },
     "execution_count": 18,
     "metadata": {},
     "output_type": "execute_result"
    }
   ],
   "source": [
    "imdb['budget'].isna().sum()"
   ]
  },
  {
   "cell_type": "code",
   "execution_count": 22,
   "metadata": {},
   "outputs": [
    {
     "data": {
      "text/plain": [
       "0                         Inception\n",
       "1                        The Matrix\n",
       "2            Avengers: Infinity War\n",
       "3                Back to the Future\n",
       "4    The Good, the Bad and the Ugly\n",
       "Name: Title, dtype: object"
      ]
     },
     "execution_count": 22,
     "metadata": {},
     "output_type": "execute_result"
    }
   ],
   "source": [
    "streaming_movies['Title'].head()"
   ]
  },
  {
   "cell_type": "code",
   "execution_count": 23,
   "metadata": {},
   "outputs": [
    {
     "data": {
      "text/plain": [
       "0                     Miss Jerry\n",
       "1    The Story of the Kelly Gang\n",
       "2                 Den sorte drøm\n",
       "3                      Cleopatra\n",
       "4                      L'Inferno\n",
       "Name: title, dtype: object"
      ]
     },
     "execution_count": 23,
     "metadata": {},
     "output_type": "execute_result"
    }
   ],
   "source": [
    "imdb['title'].head()"
   ]
  },
  {
   "cell_type": "code",
   "execution_count": 28,
   "metadata": {},
   "outputs": [
    {
     "data": {
      "text/plain": [
       "0               The Noose\n",
       "1        The Last Command\n",
       "2         A Ship Comes In\n",
       "3              7th Heaven\n",
       "4          Sadie Thompson\n",
       "               ...       \n",
       "10390            Parasite\n",
       "10391                 NaN\n",
       "10392                 NaN\n",
       "10393                 NaN\n",
       "10394                 NaN\n",
       "Name: film, Length: 10395, dtype: object"
      ]
     },
     "execution_count": 28,
     "metadata": {},
     "output_type": "execute_result"
    }
   ],
   "source": [
    "the_oscar_awards['film']"
   ]
  }
 ],
 "metadata": {
  "kernelspec": {
   "display_name": "Python 3",
   "language": "python",
   "name": "python3"
  },
  "language_info": {
   "codemirror_mode": {
    "name": "ipython",
    "version": 3
   },
   "file_extension": ".py",
   "mimetype": "text/x-python",
   "name": "python",
   "nbconvert_exporter": "python",
   "pygments_lexer": "ipython3",
   "version": "3.8.2"
  }
 },
 "nbformat": 4,
 "nbformat_minor": 4
}
